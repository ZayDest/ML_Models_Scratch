{
  "nbformat": 4,
  "nbformat_minor": 0,
  "metadata": {
    "colab": {
      "provenance": [],
      "authorship_tag": "ABX9TyM0VL84n0cL9l/NYgNz9vz7",
      "include_colab_link": true
    },
    "kernelspec": {
      "name": "python3",
      "display_name": "Python 3"
    },
    "language_info": {
      "name": "python"
    }
  },
  "cells": [
    {
      "cell_type": "markdown",
      "metadata": {
        "id": "view-in-github",
        "colab_type": "text"
      },
      "source": [
        "<a href=\"https://colab.research.google.com/github/ZayDest/ML_Models_Scratch/blob/main/Linear_Regression_Scratch.ipynb\" target=\"_parent\"><img src=\"https://colab.research.google.com/assets/colab-badge.svg\" alt=\"Open In Colab\"/></a>"
      ]
    },
    {
      "cell_type": "code",
      "source": [
        "from random import seed\n",
        "from random import randrange"
      ],
      "metadata": {
        "id": "qIpeSJZFFZhJ"
      },
      "execution_count": 71,
      "outputs": []
    },
    {
      "cell_type": "code",
      "source": [
        "#Calculate Square-Root of Number\n",
        "def sqrt(value):\n",
        "  return float(value**(1/2))"
      ],
      "metadata": {
        "id": "uWhRoEOaCBc4"
      },
      "execution_count": 49,
      "outputs": []
    },
    {
      "cell_type": "code",
      "execution_count": 50,
      "metadata": {
        "id": "q5vdbbCVzeLx"
      },
      "outputs": [],
      "source": [
        "# Calculate the mean value of a list of numbers\n",
        "def mean(values):\n",
        " return sum(values) / float(len(values))"
      ]
    },
    {
      "cell_type": "code",
      "source": [
        "# Calculate the variance of a list of numbers\n",
        "def variance(values, mean):\n",
        " return sum([(x-mean)**2 for x in values])"
      ],
      "metadata": {
        "id": "2OQLtL4z7u24"
      },
      "execution_count": 51,
      "outputs": []
    },
    {
      "cell_type": "code",
      "source": [
        "#Dataset intializing\n",
        "dataset = [[1, 1], [2, 3], [4, 3], [3, 2], [5, 5]]\n",
        "x = [row[0] for row in dataset]\n",
        "y = [row[1] for row in dataset]"
      ],
      "metadata": {
        "id": "KklfnNh472sl"
      },
      "execution_count": 52,
      "outputs": []
    },
    {
      "cell_type": "code",
      "source": [
        "# Calculate covariance between x and y\n",
        "def covariance(x, mean_x, y, mean_y):\n",
        " covar = 0.0\n",
        " for i in range(len(x)):\n",
        "  covar += (x[i] - mean_x) * (y[i] - mean_y)\n",
        " return covar"
      ],
      "metadata": {
        "id": "VBJ6GIn98YF7"
      },
      "execution_count": 53,
      "outputs": []
    },
    {
      "cell_type": "code",
      "source": [
        "# Calculate coefficients\n",
        "def coefficients(dataset):\n",
        " x_mean, y_mean = mean(x), mean(y)\n",
        " b1 = covariance(x, x_mean, y, y_mean) / variance(x, x_mean)\n",
        " b0 = y_mean - b1 * x_mean\n",
        " return [b0, b1]"
      ],
      "metadata": {
        "id": "wEnTBWps8oBh"
      },
      "execution_count": 54,
      "outputs": []
    },
    {
      "cell_type": "code",
      "source": [
        "# Simple linear regression algorithm\n",
        "def simple_linear_regression(train, test):\n",
        " predictions = list()\n",
        " b0, b1 = coefficients(train)\n",
        " for row in test:\n",
        "  yhat = b0 + b1 * row[0]\n",
        "  predictions.append(yhat)\n",
        " return predictions"
      ],
      "metadata": {
        "id": "xQmxFcXqBPAu"
      },
      "execution_count": 55,
      "outputs": []
    },
    {
      "cell_type": "code",
      "source": [
        "# Calculate root mean squared error\n",
        "def rmse_metric(actual, predicted):\n",
        " sum_error = 0.0\n",
        " for i in range(len(actual)):\n",
        "  prediction_error = predicted[i] - actual[i]\n",
        "  sum_error += (prediction_error ** 2)\n",
        "  mean_error = sum_error / float(len(actual))\n",
        " return sqrt(mean_error)"
      ],
      "metadata": {
        "id": "YFsaDrjdApgY"
      },
      "execution_count": 56,
      "outputs": []
    },
    {
      "cell_type": "code",
      "source": [
        "# Split a dataset into a train and test set\n",
        "def train_test_split(dataset, split):\n",
        " train = list()\n",
        " train_size = split * len(dataset)\n",
        " dataset_copy = list(dataset)\n",
        " while len(train) < train_size:\n",
        "  index = randrange(len(dataset_copy))\n",
        "  train.append(dataset_copy.pop(index))\n",
        " return train, dataset_copy"
      ],
      "metadata": {
        "id": "2B1d7b7jC-bq"
      },
      "execution_count": 61,
      "outputs": []
    },
    {
      "cell_type": "code",
      "source": [
        "# Evaluate an algorithm using a train/test split\n",
        "def evaluate_algorithm(dataset, algorithm, split, **args):\n",
        " train, test = train_test_split(dataset, split)\n",
        " test_set = list()\n",
        " for row in test:\n",
        "  row_copy = list(row)\n",
        "  row_copy[-1] = None\n",
        "  test_set.append(row_copy)\n",
        "  predicted = algorithm(train, test_set, **args)\n",
        " actual = [row[-1] for row in test]\n",
        " rmse = rmse_metric(actual, predicted)\n",
        " return rmse\n",
        " "
      ],
      "metadata": {
        "id": "3wKnfyKrA7wJ"
      },
      "execution_count": 67,
      "outputs": []
    },
    {
      "cell_type": "code",
      "source": [
        "seed(1)\n",
        "rmse = evaluate_algorithm(dataset, simple_linear_regression,0.33)\n",
        "print('RMSE: %.3f' % (rmse))"
      ],
      "metadata": {
        "colab": {
          "base_uri": "https://localhost:8080/"
        },
        "id": "PNOaGs_mBHvs",
        "outputId": "7cec4c70-c667-49dd-b013-54cc5bdb4737"
      },
      "execution_count": 84,
      "outputs": [
        {
          "output_type": "stream",
          "name": "stdout",
          "text": [
            "RMSE: 0.673\n"
          ]
        }
      ]
    }
  ]
}